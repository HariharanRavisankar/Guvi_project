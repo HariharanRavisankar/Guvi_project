{
 "cells": [
  {
   "cell_type": "code",
   "execution_count": 22,
   "id": "cc18bbbd",
   "metadata": {},
   "outputs": [
    {
     "name": "stderr",
     "output_type": "stream",
     "text": [
      "C:\\Users\\karuv\\AppData\\Local\\Temp\\ipykernel_2544\\3523159538.py:2: DtypeWarning: Columns (10) have mixed types. Specify dtype option on import or set low_memory=False.\n",
      "  df =pd.read_csv(\"traffic_stops - traffic_stops_with_vehicle_number.csv\")\n"
     ]
    }
   ],
   "source": [
    "import pandas as pd\n",
    "df =pd.read_csv(\"traffic_stops - traffic_stops_with_vehicle_number.csv\")\n"
   ]
  },
  {
   "cell_type": "code",
   "execution_count": 23,
   "id": "075a7d17",
   "metadata": {},
   "outputs": [],
   "source": [
    "from datetime import datetime\n",
    "df[\"DateTime\"]=pd.to_datetime(df['stop_date']+\" \"+df['stop_time'])\n",
    "df.drop([\"stop_time\",\"stop_date\"],axis=1,inplace =True)\n",
    "data=df.dropna()"
   ]
  },
  {
   "cell_type": "code",
   "execution_count": 24,
   "id": "9c31cae4",
   "metadata": {},
   "outputs": [],
   "source": [
    "data.to_csv(\"traffic_stops - traffic_stops_with_vehicle_number.csv\",index =False)"
   ]
  },
  {
   "cell_type": "code",
   "execution_count": 26,
   "id": "97b9a08f",
   "metadata": {},
   "outputs": [
    {
     "data": {
      "text/plain": [
       "country_name          0\n",
       "driver_gender         0\n",
       "driver_age_raw        0\n",
       "driver_age            0\n",
       "driver_race           0\n",
       "violation_raw         0\n",
       "violation             0\n",
       "search_conducted      0\n",
       "search_type           0\n",
       "stop_outcome          0\n",
       "is_arrested           0\n",
       "stop_duration         0\n",
       "drugs_related_stop    0\n",
       "vehicle_number        0\n",
       "DateTime              0\n",
       "dtype: int64"
      ]
     },
     "execution_count": 26,
     "metadata": {},
     "output_type": "execute_result"
    }
   ],
   "source": [
    "data.isna().sum()"
   ]
  },
  {
   "cell_type": "code",
   "execution_count": 19,
   "id": "12ee2471",
   "metadata": {},
   "outputs": [
    {
     "ename": "DuplicateDatabase",
     "evalue": "database \"police_log\" already exists\n",
     "output_type": "error",
     "traceback": [
      "\u001b[31m---------------------------------------------------------------------------\u001b[39m",
      "\u001b[31mDuplicateDatabase\u001b[39m                         Traceback (most recent call last)",
      "\u001b[36mCell\u001b[39m\u001b[36m \u001b[39m\u001b[32mIn[19]\u001b[39m\u001b[32m, line 7\u001b[39m\n\u001b[32m      5\u001b[39m conn.set_isolation_level(ISOLATION_LEVEL_AUTOCOMMIT)\n\u001b[32m      6\u001b[39m cursor =conn.cursor()\n\u001b[32m----> \u001b[39m\u001b[32m7\u001b[39m \u001b[43mcursor\u001b[49m\u001b[43m.\u001b[49m\u001b[43mexecute\u001b[49m\u001b[43m(\u001b[49m\u001b[33;43m\"\u001b[39;49m\u001b[33;43mcreate database Police_log \u001b[39;49m\u001b[33;43m\"\u001b[39;49m\u001b[43m)\u001b[49m\n",
      "\u001b[31mDuplicateDatabase\u001b[39m: database \"police_log\" already exists\n"
     ]
    }
   ],
   "source": [
    "import psycopg2\n",
    "from psycopg2.extensions import ISOLATION_LEVEL_AUTOCOMMIT\n",
    "\n",
    "conn =psycopg2.connect(host = \"localhost\",user = \"postgres\",password=\"2244\",port=5432)\n",
    "conn.set_isolation_level(ISOLATION_LEVEL_AUTOCOMMIT)\n",
    "cursor =conn.cursor()\n",
    "cursor.execute(\"create database Police_log \")"
   ]
  },
  {
   "cell_type": "code",
   "execution_count": 25,
   "id": "b0be0005",
   "metadata": {},
   "outputs": [
    {
     "name": "stdout",
     "output_type": "stream",
     "text": [
      "yes\n"
     ]
    }
   ],
   "source": [
    "from sqlalchemy import create_engine\n",
    "host = \"localhost\"\n",
    "port =\"5432\"\n",
    "database = \"police_log\"\n",
    "user= \"postgres\"\n",
    "password = \"2244\"\n",
    "\n",
    "engine_string = f\"postgresql://{user}:{password}@{host}:{port}/{database}\"\n",
    "\n",
    "engine = create_engine(engine_string)\n",
    "\n",
    "Data = pd.read_csv(\"traffic_stops - traffic_stops_with_vehicle_number.csv\",low_memory=False)\n",
    "Data.to_sql('LOG',engine,if_exists='replace',index =False)\n",
    "print(\"yes\")"
   ]
  },
  {
   "cell_type": "code",
   "execution_count": null,
   "id": "f61aa03b",
   "metadata": {},
   "outputs": [],
   "source": []
  }
 ],
 "metadata": {
  "kernelspec": {
   "display_name": ".venv",
   "language": "python",
   "name": "python3"
  },
  "language_info": {
   "codemirror_mode": {
    "name": "ipython",
    "version": 3
   },
   "file_extension": ".py",
   "mimetype": "text/x-python",
   "name": "python",
   "nbconvert_exporter": "python",
   "pygments_lexer": "ipython3",
   "version": "3.13.1"
  }
 },
 "nbformat": 4,
 "nbformat_minor": 5
}
